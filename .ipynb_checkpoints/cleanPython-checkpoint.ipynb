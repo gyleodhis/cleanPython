{
 "cells": [
  {
   "cell_type": "markdown",
   "metadata": {},
   "source": [
    "### Writing Pythonic Code"
   ]
  },
  {
   "cell_type": "markdown",
   "metadata": {},
   "source": [
    "### Naming Conventions\n",
    "You should name functions and variables in lowercase with the words\n",
    "separated by underscores:"
   ]
  },
  {
   "cell_type": "code",
   "execution_count": 3,
   "metadata": {},
   "outputs": [],
   "source": [
    "names = 'Python'\n",
    "job_title = 'Software Enginner'"
   ]
  },
  {
   "cell_type": "markdown",
   "metadata": {},
   "source": [
    "You should use one underscore (_) as a prefix for the internal variable\n",
    "of a class, where you don’t want an outside class to access the variable.\n",
    "This is just a convention"
   ]
  },
  {
   "cell_type": "code",
   "execution_count": 6,
   "metadata": {},
   "outputs": [],
   "source": [
    "_books = {} # variable name to define private\n",
    "\n",
    "__dict = [] # double underscore to prevent name mangling with python in-biuild lib\n"
   ]
  },
  {
   "cell_type": "markdown",
   "metadata": {},
   "source": [
    "### Normal Functions:\n",
    "Functions with Single Underscore"
   ]
  },
  {
   "cell_type": "code",
   "execution_count": 10,
   "metadata": {},
   "outputs": [],
   "source": [
    "def get_data():\n",
    "#     ---\n",
    "#     ---\n",
    "\n",
    "def calculate_tax_date():\n",
    "#     ---\n",
    "#     ---"
   ]
  },
  {
   "cell_type": "markdown",
   "metadata": {},
   "source": [
    "The same rules apply to private methods and methods where you want\n",
    "to prevent name mangling with built-in Python functions"
   ]
  },
  {
   "cell_type": "code",
   "execution_count": 11,
   "metadata": {},
   "outputs": [],
   "source": [
    "# Private methode with single undescore\n",
    "def _get_data():\n",
    "# double underscore to prevent name mangling with other in-build functions\n",
    "def __path():\n",
    "    "
   ]
  },
  {
   "cell_type": "markdown",
   "metadata": {},
   "source": [
    "## classes\n",
    "Class names should be in __camel case__."
   ]
  },
  {
   "cell_type": "code",
   "execution_count": 13,
   "metadata": {},
   "outputs": [],
   "source": [
    "class UserInformation:\n",
    "    def get_user(id):\n",
    "        db = get_db_connection()\n",
    "        user = execute_query_for_user(id)\n",
    "        return user"
   ]
  },
  {
   "cell_type": "markdown",
   "metadata": {},
   "source": [
    "### Constants\n",
    "Constant names should be defined in capital letters."
   ]
  },
  {
   "cell_type": "code",
   "execution_count": 14,
   "metadata": {},
   "outputs": [],
   "source": [
    "TOTAL = 56\n",
    "TIMEOUT = 5\n",
    "MAX_OVERFLOW = 7"
   ]
  },
  {
   "cell_type": "markdown",
   "metadata": {},
   "source": [
    "### Function and Method arguments\n",
    "Function and method arguments should follow the same rules as variables and method names. A class method has self as the first keyword argument compared to functions that don’t pass self as a keyword parameter:"
   ]
  },
  {
   "cell_type": "code",
   "execution_count": 17,
   "metadata": {},
   "outputs": [],
   "source": [
    "def calculate_tax(amount, yearly_tax):\n",
    "    \n",
    "class Player:\n",
    "    def get_total_score(self,player_name):"
   ]
  },
  {
   "cell_type": "markdown",
   "metadata": {},
   "source": [
    "#### Sorting a dictionary by function"
   ]
  },
  {
   "cell_type": "code",
   "execution_count": 23,
   "metadata": {},
   "outputs": [],
   "source": [
    "users = [{\"first_name\":\"Helen\", \"age\":39},{\"first_name\":\"Buck\", \"age\":10},{\"name\":\"anni\", \"age\":9}]\n",
    "def get_user_name(users):\n",
    "    # Get name of the user in lower case \n",
    "    return users[\"first_name\"].lower()\n",
    "def get_sorted_dictionary(users):\n",
    "    # Sort the nested dictionary \n",
    "    if not isinstance(users, dict):\n",
    "        raise ValueError(\"Not a correct dictionary\")\n",
    "        if not len(users):\n",
    "            raise ValueError(\"Empty dictionary\")\n",
    "            users_by_name = sorted(users, key=get_user_name)\n",
    "            return users_by_name"
   ]
  },
  {
   "cell_type": "markdown",
   "metadata": {},
   "source": [
    "#### Using Join instead of In-Place String Concartination\n",
    "use the \"\".join() method instead of in-place string concatenation, as in a += b or a = a + b. The \"\".join() method guarantees\n",
    "leaner time concatenation across various Python implementations."
   ]
  },
  {
   "cell_type": "code",
   "execution_count": 28,
   "metadata": {},
   "outputs": [
    {
     "data": {
      "text/plain": [
       "'Json smart'"
      ]
     },
     "execution_count": 28,
     "metadata": {},
     "output_type": "execute_result"
    }
   ],
   "source": [
    "first_name = 'Json'\n",
    "last_name = 'smart'\n",
    "\n",
    "# Not a recommended way to concatenate string\n",
    "full_name = first_name + \" \" + last_name\n",
    "# More performant and improve readability\n",
    "\" \".join([first_name, last_name])"
   ]
  },
  {
   "cell_type": "markdown",
   "metadata": {},
   "source": [
    "#### Consider Using is and is not Whenever You Need to Compare with None\n",
    "\n",
    "Always use is or is not for comparison with None"
   ]
  },
  {
   "cell_type": "code",
   "execution_count": 30,
   "metadata": {},
   "outputs": [],
   "source": [
    "if val: # Will work when val is not None\n",
    "# # The best way of doing it:\n",
    "if val is not None:# Make sure only None value will be false"
   ]
  },
  {
   "cell_type": "markdown",
   "metadata": {},
   "source": [
    "#### Prefer using is not instead of not ---is"
   ]
  },
  {
   "cell_type": "code",
   "execution_count": 31,
   "metadata": {},
   "outputs": [],
   "source": [
    "# Instead of doing:\n",
    "if not val is none:\n",
    "# # Its best to do this:\n",
    "if val is not none:"
   ]
  },
  {
   "cell_type": "markdown",
   "metadata": {},
   "source": [
    "#### Consider using a function instead of a lambda when binding to an identifier\n",
    "When you are assigning a lambda expression to a specific identifier, consider using a function. lambda is a keyword in Python to perform oneline operations; however, using lambda for writing a function might not be as good a choice as writing a function using def."
   ]
  },
  {
   "cell_type": "code",
   "execution_count": 32,
   "metadata": {},
   "outputs": [],
   "source": [
    "# Don’t do this:\n",
    "square = lambda x: x * x\n",
    "# Do this:\n",
    "def square(val):\n",
    "    return val * val"
   ]
  },
  {
   "cell_type": "markdown",
   "metadata": {},
   "source": [
    "#### Be consistent with the return statement\n",
    "It’s good practice to make sure you have a return expression in all the places your function exits. "
   ]
  },
  {
   "cell_type": "code",
   "execution_count": 34,
   "metadata": {},
   "outputs": [],
   "source": [
    "def calculate_interest(principle, time, rate):\n",
    "    if principle > 0:\n",
    "        return (principle * time * rate) / 100\n",
    "    else:\n",
    "        return None"
   ]
  },
  {
   "cell_type": "markdown",
   "metadata": {},
   "source": [
    "### Prefer Using ““.startswith() and ””.endswith()\n",
    "When you need to check prefixes or suffixes, consider using \"\". startswith() and \"\".endswith() instead of slicing. slice is a really useful method for slicing a string, but might get better performance when you are slicing a big string or performing string operations. However, if you are doing something as simple as checking for a prefix or suffix, go for either startswith or endswith because it makes it obvious to the reader that you are checking for a prefix or suffix in a string. "
   ]
  },
  {
   "cell_type": "code",
   "execution_count": 39,
   "metadata": {},
   "outputs": [],
   "source": [
    "# # Don’t do this:\n",
    "Data = 'Hello, how are you doing?'\n",
    "if data.startswith(\"Hello\"):\n",
    "# # Do this:\n",
    "data = \"Hello, how are you doing?\"\n",
    "if data[:5] == \"Hello\":"
   ]
  },
  {
   "cell_type": "markdown",
   "metadata": {},
   "source": [
    "#### Use the isinstance() method instead of type() for comparison\n",
    "When you are comparing two objects’ types, consider using isinstance() instead of type because isinstance() is true for subclasses. Consider a scenario where you are passing a data structure that is the subclass of a dict like orderdict. type() will fail for that specific type of data structure; however, isinstance() will recognize that it’s the subclass of dict."
   ]
  },
  {
   "cell_type": "code",
   "execution_count": 40,
   "metadata": {},
   "outputs": [],
   "source": [
    "# Don’t do this:\n",
    "user_ages = {\"Larry\": 35, \"Jon\": 89, \"Imli\": 12}\n",
    "type(user_ages) == dict:\n",
    "# Do this:\n",
    "user_ages = {\"Larry\": 35, \"Jon\": 89, \"Imli\": 12}\n",
    "if isinstance(user_ages, dict):"
   ]
  },
  {
   "cell_type": "markdown",
   "metadata": {},
   "source": [
    "### Using Docstrings"
   ]
  }
 ],
 "metadata": {
  "kernelspec": {
   "display_name": "Python 3",
   "language": "python",
   "name": "python3"
  },
  "language_info": {
   "codemirror_mode": {
    "name": "ipython",
    "version": 3
   },
   "file_extension": ".py",
   "mimetype": "text/x-python",
   "name": "python",
   "nbconvert_exporter": "python",
   "pygments_lexer": "ipython3",
   "version": "3.7.4"
  }
 },
 "nbformat": 4,
 "nbformat_minor": 2
}
